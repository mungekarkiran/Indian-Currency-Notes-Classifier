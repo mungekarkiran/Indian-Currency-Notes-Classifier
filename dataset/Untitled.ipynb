{
 "cells": [
  {
   "cell_type": "code",
   "execution_count": 16,
   "id": "2745f4cb",
   "metadata": {},
   "outputs": [],
   "source": [
    "import os\n",
    "import glob"
   ]
  },
  {
   "cell_type": "code",
   "execution_count": 18,
   "id": "05dd6eac",
   "metadata": {
    "scrolled": true
   },
   "outputs": [],
   "source": [
    "directory = 'datasetCopy'\n",
    "count = 0\n",
    "for file in os.listdir(directory):\n",
    "#     print(file)\n",
    "    file_path = os.path.join(directory, file)\n",
    "    if not os.path.isfile(file_path):\n",
    "        for file1 in os.listdir(file_path):\n",
    "            file_path1 = os.path.join(file_path, file1)\n",
    "            if not os.path.isfile(file_path1):\n",
    "                for img in os.listdir(file_path1):\n",
    "                    img_name = os.path.join(file_path1, img)\n",
    "#                     print(file1)\n",
    "                    os.rename(img_name, img_name.replace(img, f'{count}_img_{file1}.jpg', 1))\n",
    "                    count += 1\n",
    "    "
   ]
  },
  {
   "cell_type": "code",
   "execution_count": 19,
   "id": "a3980701",
   "metadata": {},
   "outputs": [],
   "source": [
    "# https://www.geeksforgeeks.org/python-data-augmentation/"
   ]
  },
  {
   "cell_type": "code",
   "execution_count": 40,
   "id": "a38843cf",
   "metadata": {},
   "outputs": [
    {
     "name": "stdout",
     "output_type": "stream",
     "text": [
      "datasetCopy\\Train\\0\n",
      "file_count : 124 | 20% : 12\n",
      "datasetCopy\\Train\\1\n",
      "file_count : 200 | 20% : 20\n",
      "datasetCopy\\Train\\2\n",
      "file_count : 133 | 20% : 13\n",
      "datasetCopy\\Train\\3\n",
      "file_count : 143 | 20% : 14\n",
      "datasetCopy\\Train\\4\n",
      "file_count : 106 | 20% : 10\n",
      "datasetCopy\\Train\\5\n",
      "file_count : 140 | 20% : 14\n"
     ]
    }
   ],
   "source": [
    "import os, random, glob, shutil\n",
    "\n",
    "directory = 'datasetCopy\\Train'\n",
    "for file in os.listdir(directory):\n",
    "    file_path = os.path.join(directory, file)\n",
    "    print(file_path)\n",
    "    if not os.path.isfile(file_path):\n",
    "        file_count = len(glob.glob(file_path+'\\*'))\n",
    "        pct20p = int(file_count*0.2)\n",
    "        print(f\"file_count : {file_count} | 20% : {pct20p}\")\n",
    "        # change dir name to whatever\n",
    "        list_of_imgs = [os.path.join(file_path, random.choice(os.listdir(file_path))) for _ in range(pct20p)]\n",
    "#         print(list_of_imgs)\n",
    "        for img in list_of_imgs:\n",
    "            split_img = img.split('\\\\')\n",
    "#             print(f\"img : {img} || split {split_img} \")\n",
    "            source, destination = img, os.path.join(split_img[0], 'Test', split_img[2], split_img[3])\n",
    "            shutil.copy(source, destination)\n",
    "#         for file1 in os.listdir(file_path):\n",
    "#             file_path1 = os.path.join(file_path, file1)\n",
    "#             if not os.path.isfile(file_path1):\n",
    "#                 for img in os.listdir(file_path1):\n",
    "\n",
    "# random.choice(os.listdir(\"datasetCopy\\\\Train\\\\0\\\\\")) #change dir name to whatever"
   ]
  },
  {
   "cell_type": "code",
   "execution_count": null,
   "id": "98d8f27e",
   "metadata": {},
   "outputs": [],
   "source": []
  },
  {
   "cell_type": "code",
   "execution_count": null,
   "id": "5b0be3f6",
   "metadata": {},
   "outputs": [],
   "source": []
  }
 ],
 "metadata": {
  "kernelspec": {
   "display_name": "Python 3 (ipykernel)",
   "language": "python",
   "name": "python3"
  },
  "language_info": {
   "codemirror_mode": {
    "name": "ipython",
    "version": 3
   },
   "file_extension": ".py",
   "mimetype": "text/x-python",
   "name": "python",
   "nbconvert_exporter": "python",
   "pygments_lexer": "ipython3",
   "version": "3.10.10"
  }
 },
 "nbformat": 4,
 "nbformat_minor": 5
}
